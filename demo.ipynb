{
 "cells": [
  {
   "cell_type": "code",
   "execution_count": null,
   "id": "947e84ce",
   "metadata": {},
   "outputs": [],
   "source": [
    "import torch\n",
    "import torch.nn as nn\n",
    "import torch.nn.functional as F\n",
    "import numpy as np\n",
    "from scipy.optimize import linear_sum_assignment\n",
    "from model import UnifiedDetector\n",
    "from criterion import Criterion\n",
    "from Hier_trainer import Hier_trainer\n",
    "\n"
   ]
  },
  {
   "cell_type": "code",
   "execution_count": null,
   "id": "fd7fb09c",
   "metadata": {},
   "outputs": [],
   "source": [
    "model=UnifiedDetector(im_size=128,n_classes=1).cuda()\n",
    "input=torch.rand([8,3,128,128]).cuda() #[B,3,H,W]\n",
    "pixel_features, mask_out, classes, semantic_mask, affinity_matrix=model(input)\n",
    "print(pixel_features.shape,mask_out.shape,classes.shape,semantic_mask.shape,affinity_matrix.shape)"
   ]
  },
  {
   "cell_type": "code",
   "execution_count": null,
   "id": "84dd1e72",
   "metadata": {},
   "outputs": [],
   "source": [
    "criter=Criterion()\n",
    "classes_gt=(torch.rand([8,20])+1).long().cuda()\n",
    "mask_gt=F.one_hot(torch.rand([8,20,128,128]).argmax(dim=1),num_classes=20).permute(0,3,1,2).cuda()\n",
    "affinity_matrix_gt=torch.rand(8,20,20).cuda()\n",
    "gt_size=torch.LongTensor([6,9,2,3,4,5,5,8]).cuda()\n",
    "loss=criter(classes.sigmoid().squeeze(dim=-1),classes_gt,F.softmax(mask_out,dim=1),mask_gt,affinity_matrix,affinity_matrix_gt,semantic_mask.sigmoid(),mask_gt[:,0],pixel_features,gt_size)\n",
    "print(loss)"
   ]
  },
  {
   "cell_type": "code",
   "execution_count": null,
   "id": "88a630e5",
   "metadata": {},
   "outputs": [],
   "source": [
    "trainer=Hier_trainer()\n",
    "dataloader=[\n",
    "    {\n",
    "        'images':torch.rand([8,3,128,128]),\n",
    "        'mask_gt':F.one_hot(torch.rand([8,20,128,128]).argmax(dim=1),num_classes=20).permute(0,3,1,2),\n",
    "        'classes_gt': (torch.rand([8,20])+0.5).long(),\n",
    "        'affinity_matrix_gt':torch.rand(8,20,20),\n",
    "        'gt_size': (torch.rand(8)*10).long(),\n",
    "\n",
    "    },\n",
    "    {\n",
    "        'images':torch.rand([6,3,128,128]),\n",
    "        'mask_gt':F.one_hot(torch.rand([6,20,128,128]).argmax(dim=1),num_classes=20).permute(0,3,1,2),\n",
    "        'classes_gt': (torch.rand([6,20])+0.5).long(),\n",
    "        'affinity_matrix_gt':(torch.rand(6,20,20)+0.5).long(),\n",
    "        'gt_size': (torch.rand(6)*10).long(),\n",
    "    }\n",
    "]\n",
    "trainer.train_epoch(dataloader,0)"
   ]
  },
  {
   "cell_type": "code",
   "execution_count": null,
   "id": "bf33fbac",
   "metadata": {},
   "outputs": [],
   "source": [
    "torch.autograd.set_detect_anomaly(True)\n",
    "model=UnifiedDetector(im_size=128,n_classes=1).cuda()\n",
    "input=torch.rand([8,3,128,128]).cuda() #[B,3,H,W]\n",
    "pixel_features, mask_out, classes, semantic_mask, affinity_matrix=model(input)\n",
    "loss=mask_out.sum()\n",
    "loss.backward()"
   ]
  },
  {
   "cell_type": "code",
   "execution_count": null,
   "id": "2a757cc1",
   "metadata": {},
   "outputs": [],
   "source": [
    "!python dataset.py"
   ]
  }
 ],
 "metadata": {
  "kernelspec": {
   "display_name": "Python 3.8.13 ('py38')",
   "language": "python",
   "name": "python3"
  },
  "language_info": {
   "codemirror_mode": {
    "name": "ipython",
    "version": 3
   },
   "file_extension": ".py",
   "mimetype": "text/x-python",
   "name": "python",
   "nbconvert_exporter": "python",
   "pygments_lexer": "ipython3",
   "version": "3.8.13"
  },
  "vscode": {
   "interpreter": {
    "hash": "c86037aab4bdb2ef7f18591f9a3daf0fd1e1d422d3c1afa12331edcf94eacd5f"
   }
  }
 },
 "nbformat": 4,
 "nbformat_minor": 5
}
